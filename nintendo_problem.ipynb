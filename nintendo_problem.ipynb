{
  "nbformat": 4,
  "nbformat_minor": 0,
  "metadata": {
    "colab": {
      "name": "nintendo_problem.ipynb",
      "version": "0.3.2",
      "provenance": [],
      "include_colab_link": true
    },
    "kernelspec": {
      "name": "python3",
      "display_name": "Python 3"
    }
  },
  "cells": [
    {
      "cell_type": "markdown",
      "metadata": {
        "id": "view-in-github",
        "colab_type": "text"
      },
      "source": [
        "<a href=\"https://colab.research.google.com/github/takashisuo/coffee_break/blob/master/nintendo_problem.ipynb\" target=\"_parent\"><img src=\"https://colab.research.google.com/assets/colab-badge.svg\" alt=\"Open In Colab\"/></a>"
      ]
    },
    {
      "cell_type": "code",
      "metadata": {
        "id": "J0m-ZWK9IBmS",
        "colab_type": "code",
        "colab": {}
      },
      "source": [
        "import sys"
      ],
      "execution_count": 0,
      "outputs": []
    },
    {
      "cell_type": "code",
      "metadata": {
        "id": "6NttE1i0Ia8W",
        "colab_type": "code",
        "colab": {}
      },
      "source": [
        "def lets_take_tea_break(m, e, n, c):\n",
        "  if pow(m, e) % n == c:\n",
        "    return str(m)\n",
        "  else:\n",
        "    return \"\"  "
      ],
      "execution_count": 0,
      "outputs": []
    },
    {
      "cell_type": "code",
      "metadata": {
        "id": "-vstNrPTIhWi",
        "colab_type": "code",
        "outputId": "f85279cb-7bc9-4dba-e482-cc064fe76b35",
        "colab": {
          "base_uri": "https://localhost:8080/",
          "height": 52
        }
      },
      "source": [
        "res = None\n",
        "for num in range(0, 10000):\n",
        "  res = lets_take_tea_break(*[int(i) for i in (num, 17, 3569, 915)])\n",
        "  if (len(res) != 0):\n",
        "    print(\"num:\", num, \", return value:\", res)\n",
        "    break\n",
        "    \n",
        "print(\"First answer value is \", res)"
      ],
      "execution_count": 0,
      "outputs": [
        {
          "output_type": "stream",
          "text": [
            "num: 2012 , return value: 2012\n",
            "answer value is  2012\n"
          ],
          "name": "stdout"
        }
      ]
    },
    {
      "cell_type": "code",
      "metadata": {
        "id": "Mo_0-8VQKrFF",
        "colab_type": "code",
        "colab": {}
      },
      "source": [
        ""
      ],
      "execution_count": 0,
      "outputs": []
    }
  ]
}